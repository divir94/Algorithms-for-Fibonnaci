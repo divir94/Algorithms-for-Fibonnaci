{
 "cells": [
  {
   "cell_type": "markdown",
   "metadata": {},
   "source": [
    "#Introduction"
   ]
  },
  {
   "cell_type": "markdown",
   "metadata": {},
   "source": [
    "The Fibonacci numbers are defined as:"
   ]
  },
  {
   "cell_type": "markdown",
   "metadata": {},
   "source": [
    "$$F_n = F_{n-1} + F_{n-2}, \\enspace with \\enspace F_0 = 0 \\enspace and \\enspace F_1 = 1$$"
   ]
  },
  {
   "cell_type": "markdown",
   "metadata": {},
   "source": [
    "With the first 10 numbers of the sequence being:"
   ]
  },
  {
   "cell_type": "markdown",
   "metadata": {},
   "source": [
    "<table>\n",
    "<tr>\n",
    "    <td>$F_0$</td>\n",
    "    <td>$F_1$</td>\n",
    "    <td>$F_2$</td>\n",
    "    <td>$F_3$</td>\n",
    "    <td>$F_4$</td>\n",
    "    <td>$F_5$</td>\n",
    "    <td>$F_6$</td>\n",
    "    <td>$F_7$</td>\n",
    "    <td>$F_8$</td>\n",
    "    <td>$F_9$</td>\n",
    "</tr>\n",
    "<tr>\n",
    "    <td>0</td>\n",
    "    <td>1</td>\n",
    "    <td>1</td>\n",
    "    <td>2</td>\n",
    "    <td>3</td>\n",
    "    <td>5</td>\n",
    "    <td>8</td>\n",
    "    <td>13</td>\n",
    "    <td>21</td>\n",
    "    <td>34</td>\n",
    "</tr>\n",
    "</table>"
   ]
  },
  {
   "cell_type": "markdown",
   "metadata": {},
   "source": [
    "##1. A naive algorithm"
   ]
  },
  {
   "cell_type": "markdown",
   "metadata": {},
   "source": [
    "We start with a naive algorithm implemented recursively."
   ]
  },
  {
   "cell_type": "code",
   "execution_count": 1,
   "metadata": {
    "collapsed": false
   },
   "outputs": [],
   "source": [
    "def fib(n):\n",
    "    # Base case\n",
    "    if n <= 1: \n",
    "        return n\n",
    "    # Recursive step\n",
    "    return fib(n - 1) + fib(n - 2)"
   ]
  },
  {
   "cell_type": "markdown",
   "metadata": {},
   "source": [
    "We can see that this algorithm is exponential in time by looking at the recursive stack."
   ]
  },
  {
   "cell_type": "code",
   "execution_count": 2,
   "metadata": {
    "collapsed": false
   },
   "outputs": [
    {
     "data": {
      "text/html": [
       "<img src=\"http://www.cse.unsw.edu.au/~billw/dictionaries/pix/fibonacci_tree.png\"/>"
      ],
      "text/plain": [
       "<IPython.core.display.Image object>"
      ]
     },
     "execution_count": 2,
     "metadata": {},
     "output_type": "execute_result"
    }
   ],
   "source": [
    "from IPython.display import Image\n",
    "Image(url='http://www.cse.unsw.edu.au/~billw/dictionaries/pix/fibonacci_tree.png')"
   ]
  },
  {
   "cell_type": "markdown",
   "metadata": {},
   "source": [
    "Notice that a binary tree with depth `h` has at most $2^{h+1}-1$ nodes. Keeping this in mind and comparing the leftmost and rightmost branches, we can assign upper and lower bounds to the time complexity.\n",
    "\n",
    "If we are computing `fib(n)`, then the leftmost branch has depth $n - 1$ and the tree has at most $2^{n+1}-1$ nodes giving us an upper bound of $O(2^n)$. Looking at the rightmost branch, we see that the depth is only $n/2$, giving us a lower bound of $\\Omega{(2^{n/2})}$.\n",
    "\n",
    "Therefore, our naive algorithm is exponential in time and linear in space (the maximum depth of the stack trace given by the leftmost branch determines the space complexity).\n",
    "\n",
    "Let's get an idea of the time taken to compute different Fibonnaci numbers."
   ]
  },
  {
   "cell_type": "code",
   "execution_count": 3,
   "metadata": {
    "collapsed": false
   },
   "outputs": [
    {
     "name": "stdout",
     "output_type": "stream",
     "text": [
      "10000 loops, best of 3: 23.4 µs per loop\n",
      "100 loops, best of 3: 2.81 ms per loop\n",
      "1 loops, best of 3: 3.98 s per loop\n"
     ]
    }
   ],
   "source": [
    "%timeit fib(10) # about 23.6 µs\n",
    "%timeit fib(20) # about 2.79 ms\n",
    "%timeit fib(35) # about 3.85 s"
   ]
  },
  {
   "cell_type": "markdown",
   "metadata": {},
   "source": [
    "##2. Let's memoize!"
   ]
  },
  {
   "cell_type": "markdown",
   "metadata": {},
   "source": [
    "Looking at the tree in the section above, we notice that we recompute a lot of subtrees (the subtree starting with $f_3$ is computed 3 times). We can memoize (i.e. cache) these computations by either having a dictionary (aka mash map) or a lookup array.\n",
    "\n",
    "Here's the implementation with a dictionary."
   ]
  },
  {
   "cell_type": "code",
   "execution_count": 4,
   "metadata": {
    "collapsed": false
   },
   "outputs": [],
   "source": [
    "def fib(n):\n",
    "    memo = {0: 0, 1: 1} # initialize dictionary\n",
    "    return fib_helper(n, memo)\n",
    "\n",
    "def fib_helper(n, memo):\n",
    "    # If seen, return it\n",
    "    if n in memo:\n",
    "        return memo[n]\n",
    "    # Otherwise, compute the value and store\n",
    "    memo[n] = fib_helper(n - 1, memo) + fib_helper(n - 2, memo)\n",
    "    return memo[n]"
   ]
  },
  {
   "cell_type": "markdown",
   "metadata": {},
   "source": [
    "The same idea can be implemented with a lookup array."
   ]
  },
  {
   "cell_type": "code",
   "execution_count": 5,
   "metadata": {
    "collapsed": false
   },
   "outputs": [],
   "source": [
    "def fib(n):\n",
    "    memo = [0, 1] + [-1] * (n - 1) # initialize with [0, 1, -1, ..., -1]\n",
    "    return fib_helper(n, memo)\n",
    "    \n",
    "def fib_helper(n, memo):\n",
    "    # If seen, return it\n",
    "    if memo[n] >= 0:\n",
    "        return memo[n]\n",
    "    # If the value is -1, then we haven't seen it so we compute it and return\n",
    "    else:\n",
    "        memo[n] = fib_helper(n - 1, memo) + fib_helper(n - 2, memo)\n",
    "        return memo[n]"
   ]
  },
  {
   "cell_type": "markdown",
   "metadata": {},
   "source": [
    "Notice that we are filling all the elements in our lookup array and we update every element only once. Therefore, our algorithm is $O(n)$ in both time and space (we use memory proportional to the sie of the input).\n",
    "\n",
    "Let's see how the time taken to compute some of the numbers has changed."
   ]
  },
  {
   "cell_type": "code",
   "execution_count": 7,
   "metadata": {
    "collapsed": false
   },
   "outputs": [
    {
     "name": "stdout",
     "output_type": "stream",
     "text": [
      "100000 loops, best of 3: 4.29 µs per loop\n",
      "100000 loops, best of 3: 8.29 µs per loop\n",
      "100000 loops, best of 3: 14.2 µs per loop\n",
      "1000 loops, best of 3: 471 µs per loop\n"
     ]
    }
   ],
   "source": [
    "%timeit fib(10) # about 4.3 µs as compared to 23.6 µs before\n",
    "%timeit fib(20) # about 8.45 µs as compared to 2.79 ms before\n",
    "%timeit fib(35) # about 14.2 µs as compared to 3.85 s before\n",
    "%timeit fib(900) # about 488 µs\n",
    "%timeit fib(1000) # recursion depth exceeded!"
   ]
  },
  {
   "cell_type": "markdown",
   "metadata": {},
   "source": [
    "##3. Every recursive algorithm can be implemented iteratively"
   ]
  },
  {
   "cell_type": "markdown",
   "metadata": {},
   "source": [
    "Yes, it is true so let's do it."
   ]
  },
  {
   "cell_type": "code",
   "execution_count": 8,
   "metadata": {
    "collapsed": false
   },
   "outputs": [],
   "source": [
    "def fib(n):\n",
    "    if n <= 1:\n",
    "        return n\n",
    "    memo = [0, 1] + [-1] * (n - 1) # initialize with [0, 1, -1, ..., -1]\n",
    "    for i in range(2, n + 1):\n",
    "        memo[i] = memo[i - 1] + memo[i - 2]\n",
    "    return memo[-1] # return the last element i.e. memo[n]"
   ]
  },
  {
   "cell_type": "markdown",
   "metadata": {},
   "source": [
    "Even though the time and space compexity remains unchanged, this implementation is a little faster and bit more space efficient as there is no recursion overhead. `fib(1000)` returns without a stack overflow error this time."
   ]
  },
  {
   "cell_type": "code",
   "execution_count": 9,
   "metadata": {
    "collapsed": false
   },
   "outputs": [
    {
     "name": "stdout",
     "output_type": "stream",
     "text": [
      "The slowest run took 4.55 times longer than the fastest. This could mean that an intermediate result is being cached \n",
      "100000 loops, best of 3: 2.41 µs per loop\n",
      "100000 loops, best of 3: 4.27 µs per loop\n",
      "100000 loops, best of 3: 5.96 µs per loop\n",
      "10000 loops, best of 3: 169 µs per loop\n",
      "10000 loops, best of 3: 191 µs per loop\n"
     ]
    }
   ],
   "source": [
    "%timeit fib(10) # about 2.51 µs\n",
    "%timeit fib(20) # about 4 µs\n",
    "%timeit fib(35) # about 6.1 µs\n",
    "%timeit fib(900) # about 173 µs\n",
    "%timeit fib(1000) # about 192 µs"
   ]
  },
  {
   "cell_type": "markdown",
   "metadata": {},
   "source": [
    "##4. Don't keep what you don't need"
   ]
  },
  {
   "cell_type": "markdown",
   "metadata": {},
   "source": [
    "By now you might have noticed that we only need to keep track of the last two Fibonnaci numbers and not the ones before that. With this optimization, we use only <b>constant memory</b>."
   ]
  },
  {
   "cell_type": "markdown",
   "metadata": {},
   "source": [
    "If the last two values are `[a, b]`, then in the next iteration we want them to become `[b, a + b]`. The first few iterations look like - <br>\n",
    "`[0, 1], [1, 1], [1, 2], [2, 3], [3, 5], [5, 8], ...`"
   ]
  },
  {
   "cell_type": "code",
   "execution_count": 10,
   "metadata": {
    "collapsed": false
   },
   "outputs": [],
   "source": [
    "def fib(n):\n",
    "    if n <= 1:\n",
    "        return n\n",
    "    last = [0, 1]\n",
    "    for i in range(2, n + 1):\n",
    "        last = [last[1], last[0] + last[1]] # [a, b] => [b, a + b]\n",
    "    return last[-1]"
   ]
  },
  {
   "cell_type": "markdown",
   "metadata": {},
   "source": [
    "This is the only algorithm we have implemented so far that uses constant memory. But, can we do better with time?"
   ]
  },
  {
   "cell_type": "markdown",
   "metadata": {},
   "source": [
    "##5. Divide and conquer with matrix algebra"
   ]
  },
  {
   "cell_type": "markdown",
   "metadata": {},
   "source": [
    "Notice that in the previous implementation, we were repeatedly updating the `last` vector from `[a, b]` to `[b, a + b]`. We started from `[0, 1]` to `[1, 1], [1, 2], [2, 3] etc.`\n",
    "\n",
    "A neat way to do this is through matrix multiplication -"
   ]
  },
  {
   "cell_type": "markdown",
   "metadata": {},
   "source": [
    "$$ \n",
    "\\left[ \\begin{array}{cc}\n",
    "a & b \\\\\n",
    "\\end{array} \\right]\n",
    "%\n",
    "\\left[ \\begin{array}{cc}\n",
    "0 & 1 \\\\\n",
    "1 & 1\n",
    "\\end{array} \\right]\n",
    "%\n",
    "=\\left[ \\begin{array}{cc}\n",
    "b & a + b \\\\\n",
    "\\end{array} \\right]\n",
    "$$\n",
    "\n",
    "For example,\n",
    "$$ \n",
    "\\left[ \\begin{array}{cc}\n",
    "0 & 1 \\\\\n",
    "\\end{array} \\right]\n",
    "%\n",
    "\\left[ \\begin{array}{cc}\n",
    "0 & 1 \\\\\n",
    "1 & 1\n",
    "\\end{array} \\right]\n",
    "%\n",
    "=\\left[ \\begin{array}{cc}\n",
    "1 & 1 \\\\\n",
    "\\end{array} \\right]\n",
    "$$\n",
    "\n",
    "$$ \n",
    "\\left[ \\begin{array}{cc}\n",
    "1 & 1 \\\\\n",
    "\\end{array} \\right]\n",
    "%\n",
    "\\left[ \\begin{array}{cc}\n",
    "0 & 1 \\\\\n",
    "1 & 1\n",
    "\\end{array} \\right]\n",
    "%\n",
    "=\\left[ \\begin{array}{cc}\n",
    "1 & 2 \\\\\n",
    "\\end{array} \\right]\n",
    "$$\n",
    "\n",
    "$$ \n",
    "\\left[ \\begin{array}{cc}\n",
    "1 & 2 \\\\\n",
    "\\end{array} \\right]\n",
    "%\n",
    "\\left[ \\begin{array}{cc}\n",
    "0 & 1 \\\\\n",
    "1 & 1\n",
    "\\end{array} \\right]\n",
    "%\n",
    "=\\left[ \\begin{array}{cc}\n",
    "2 & 3 \\\\\n",
    "\\end{array} \\right]\n",
    "$$"
   ]
  },
  {
   "cell_type": "markdown",
   "metadata": {},
   "source": [
    "The zeroth element of the leftmost 2 dimentional vectors give us the Fibonnaci sequence.\n",
    "\n",
    "Let $Z = [0, 1]$ and $A = \\left[ \\begin{array}{cc}\n",
    "0 & 1 \\\\\n",
    "1 & 1\n",
    "\\end{array} \\right].$ If we are computing `fib(n)`, then we want to repeat this update `n` times and take the zeroth element. "
   ]
  },
  {
   "cell_type": "markdown",
   "metadata": {},
   "source": [
    "$$Z \\times \\underbrace{A \\times A ... \\times \\, A}_\\text{n times} \\enspace = \\enspace Z \\times A^n$$"
   ]
  },
  {
   "cell_type": "code",
   "execution_count": 11,
   "metadata": {
    "collapsed": false
   },
   "outputs": [],
   "source": [
    "import numpy as np # numerical python for matrix operations\n",
    "\n",
    "def fib(n):\n",
    "    Z = [0, 1]\n",
    "    A = np.array([[0, 1], [1, 1]])\n",
    "    A_n = np.linalg.matrix_power(A, n) # A^n\n",
    "    Z = np.dot(Z, A_n) # Z * A^n\n",
    "    return Z[0]"
   ]
  },
  {
   "cell_type": "markdown",
   "metadata": {},
   "source": [
    "Now, the trick to a more efficient algorithm is that we can do exponential using divide and conquer. \n",
    "\n",
    "Let's say you want to compute $2^{100}$. You can write this as $2^{100} = 2^{50} \\times 2^{50} = (2^{50})^2$. This way you only compute $2^{50}$ once and then square it. Similarly, if we want $2^{25}$, we could do $2^{25} = 2^{12} \\times 2^{12} \\times 2 = (2^{12})^2 \\times 2$.\n",
    "\n",
    "In short, to compute $2^n$, if n is even compute $(2^{k/2})^2$, else if n is odd compute $(2^{k/2})^2 \\times 2$. \n",
    "\n",
    "This way, we can compute $2^n$ in $log(n)$ computations as every time we are diving $n$ by roughly half. The same idea can be applied to computing powers of a matrix."
   ]
  },
  {
   "cell_type": "code",
   "execution_count": 12,
   "metadata": {
    "collapsed": false
   },
   "outputs": [],
   "source": [
    "import numpy as np # numerical python for matrix operations\n",
    "\n",
    "def repeated_square(A, n):\n",
    "    '''Raise A to the power n efficiently by using divide and conquer.'''\n",
    "    # Base case\n",
    "    if n == 1:\n",
    "        return A\n",
    "    # Compute A^(k/2). Note that we are doing floor division so 5 / 2 = 2.\n",
    "    B = repeated_square(A, n / 2)\n",
    "    # If even, return B x B\n",
    "    if n % 2 == 0: \n",
    "        return np.dot(B, B)\n",
    "    # If odd, return B x B x A\n",
    "    else:\n",
    "        return np.dot(np.dot(B, B), A)\n",
    "\n",
    "def fib(n):\n",
    "    X = [0, 1]\n",
    "    A = np.array([[0, 1], [1, 1]])\n",
    "    A_n = repeated_square(A, n) # do A^n efficiently\n",
    "    Z = np.dot(X, A_n) # Z * A^n\n",
    "    return Z[0]"
   ]
  },
  {
   "cell_type": "markdown",
   "metadata": {
    "collapsed": true
   },
   "source": [
    "This algorithm is $O(log \\, n)$ in time and $O(1)$ in space. "
   ]
  },
  {
   "cell_type": "code",
   "execution_count": 13,
   "metadata": {
    "collapsed": false
   },
   "outputs": [
    {
     "name": "stdout",
     "output_type": "stream",
     "text": [
      "The slowest run took 4.80 times longer than the fastest. This could mean that an intermediate result is being cached \n",
      "10000 loops, best of 3: 24.6 µs per loop\n",
      "10000 loops, best of 3: 41.9 µs per loop\n",
      "10000 loops, best of 3: 85.7 µs per loop\n",
      "10000 loops, best of 3: 87.5 µs per loop\n"
     ]
    }
   ],
   "source": [
    "# 1 thousand\n",
    "%timeit fib(1000) # about 24.8 µs compared to 192 µs before\n",
    "# 1 million\n",
    "%timeit fib(1000000) # about 38.7 µs\n",
    "# 1 billion\n",
    "%timeit fib(1000000000) # about 73.8 µs\n",
    "# 1 trillion!\n",
    "%timeit fib(1000000000000) # about 76.3 µs"
   ]
  },
  {
   "cell_type": "markdown",
   "metadata": {},
   "source": [
    "We can see that even large input sizes are computed in less than a millisecond!"
   ]
  },
  {
   "cell_type": "code",
   "execution_count": 16,
   "metadata": {
    "collapsed": false,
    "scrolled": true
   },
   "outputs": [
    {
     "data": {
      "image/png": "[encoded data removed]",
      "text/plain": [
       "<matplotlib.figure.Figure at 0x1051f9f50>"
      ]
     },
     "metadata": {},
     "output_type": "display_data"
    }
   ],
   "source": [
    "%matplotlib inline\n",
    "import timeit # keeping time\n",
    "import matplotlib.pyplot as plt # plotting\n",
    "\n",
    "input_size = np.linspace(1, 1000000000000, 1000) # divide 1 trillion into 1000 equal parts\n",
    "time_taken = [timeit.timeit('fib(%d)' % i, 'from __main__ import fib', number = 1) for i in input_size]\n",
    "\n",
    "plt.plot(input_size, time_taken, 'o')\n",
    "plt.xlabel('Input size in trillions')\n",
    "plt.ylabel('Time in seconds')\n",
    "plt.title('Time taken by fast Fibonacci algorithm')\n",
    "plt.show()"
   ]
  },
  {
   "cell_type": "markdown",
   "metadata": {},
   "source": [
    "Pretty neat right? So the next time you get an interview question to implement Fibonacci, you know what to do :)"
   ]
  }
 ],
 "metadata": {
  "kernelspec": {
   "display_name": "Python 2",
   "language": "python",
   "name": "python2"
  },
  "language_info": {
   "codemirror_mode": {
    "name": "ipython",
    "version": 2
   },
   "file_extension": ".py",
   "mimetype": "text/x-python",
   "name": "python",
   "nbconvert_exporter": "python",
   "pygments_lexer": "ipython2",
   "version": "2.7.10"
  }
 },
 "nbformat": 4,
 "nbformat_minor": 0
}
