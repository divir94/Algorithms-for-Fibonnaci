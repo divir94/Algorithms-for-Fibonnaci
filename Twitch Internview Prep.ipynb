{
 "cells": [
  {
   "cell_type": "code",
   "execution_count": 2,
   "metadata": {
    "collapsed": false
   },
   "outputs": [
    {
     "name": "stdout",
     "output_type": "stream",
     "text": [
      "[[ 0  1  2  3]\n",
      " [ 4  5  6  7]\n",
      " [ 8  9 10 11]\n",
      " [12 13 14 15]]\n",
      "0\n",
      "1\n",
      "2\n",
      "3\n",
      "7\n",
      "11\n",
      "15\n",
      "14\n",
      "13\n",
      "12\n",
      "8\n",
      "4\n",
      "5\n",
      "6\n",
      "10\n",
      "9\n"
     ]
    }
   ],
   "source": [
    "import numpy as np\n",
    "dirs = ['R', 'D', 'L', 'U']\n",
    "\n",
    "dir_step = {\n",
    "    'R': [1, 0],\n",
    "    'D': [0, 1],\n",
    "    'L': [-1, 0],\n",
    "    'U': [0, -1]\n",
    "}\n",
    "seen = {}\n",
    "\n",
    "def print_spiral(arr):\n",
    "    size = arr.shape[0]  \n",
    "    num_printed = 0\n",
    "    i = j = 0\n",
    "    dir_idx = 0\n",
    "    print arr[i][j]\n",
    "    num_printed += 1\n",
    "    seen[(i, j)] = True\n",
    "    while num_printed < size * size:\n",
    "        new_i, new_j, valid = get_next_child(i, j, dirs[dir_idx], size)\n",
    "        if valid:\n",
    "            i, j = new_i, new_j\n",
    "            print arr[j][i]\n",
    "            num_printed += 1\n",
    "            seen[(new_i, new_j)] = True\n",
    "            #print 'next index: (%d, %d)' % (new_i, new_j)\n",
    "        else:\n",
    "            dir_idx = (dir_idx + 1) % 4\n",
    "            \n",
    "def is_in_range(i, j, size):\n",
    "    return (0 <= i <= size - 1) and (0 <= j <= size - 1)\n",
    "            \n",
    "def get_next_child(i, j, direc, size):\n",
    "    new_i, new_j = np.add([i, j], dir_step[direc])\n",
    "    in_range = is_in_range(new_i, new_j, size)\n",
    "    if in_range and (new_i, new_j) not in seen:\n",
    "        return new_i, new_j, True\n",
    "    return None, None, False\n",
    "\n",
    "arr = np.arange(16).reshape((4, 4))\n",
    "print arr\n",
    "print_spiral(arr)"
   ]
  },
  {
   "cell_type": "code",
   "execution_count": 3,
   "metadata": {
    "collapsed": false
   },
   "outputs": [
    {
     "name": "stdout",
     "output_type": "stream",
     "text": [
      "[3, 5]\n"
     ]
    }
   ],
   "source": [
    "from math import sqrt\n",
    "\n",
    "def prime_factors(n):\n",
    "    num = []\n",
    "    #add 2 to list or prime factors and remove all even numbers(like sieve of ertosthenes)\n",
    "    while (n%2 == 0):\n",
    "        num.append(2)\n",
    "        n /= 2\n",
    "        \n",
    "    #divide by odd numbers and remove all of their multiples increment by 2 if no perfectlly devides add it\n",
    "    for i in xrange(3, int(sqrt(n))+1, 2):\n",
    "        while (n%i == 0):\n",
    "            num.append(i)\n",
    "            n /= i\n",
    "\n",
    "    #if no is > 2 i.e no is a prime number that is only divisble by itself add it\n",
    "    if n>2:\n",
    "        num.append(n)\n",
    "        \n",
    "    print num\n",
    "    \n",
    "prime_factors(15)"
   ]
  },
  {
   "cell_type": "code",
   "execution_count": 4,
   "metadata": {
    "collapsed": false
   },
   "outputs": [
    {
     "name": "stdout",
     "output_type": "stream",
     "text": [
      "0 117943 235886 modifier\n",
      "0 58971 117943 eagle\n",
      "0 29485 58971 canarian\n",
      "0 14742 29485 astheny\n",
      "0 7371 14742 amylamine\n",
      "0 3685 7371 afterpart\n",
      "3686 5528 7371 alleviator\n",
      "5529 6450 7371 amblychromatic\n",
      "5529 5989 6450 alruna\n",
      "5529 5759 5989 alluvion\n",
      "5760 5874 5989 aloewood\n",
      "5875 5932 5989 alpestrian\n",
      "5933 5961 5989 alphorn\n",
      "5933 5947 5961 alphard\n",
      "5933 5940 5947 alphabetics\n",
      "5933 5936 5940 alphabetarian\n",
      "5933 5934 5936 alpha\n",
      "5935 5935 5936 alphabet\n",
      "alphabet\n"
     ]
    }
   ],
   "source": [
    "def get_words():\n",
    "    f = open('/usr/share/dict/words')\n",
    "    words = [word.strip() for word in f]\n",
    "    return words\n",
    "\n",
    "def find_word(word, start, end):\n",
    "    if start >= end:\n",
    "        return -1\n",
    "    mid = (start + end) / 2\n",
    "    mid_word = words[mid].lower()\n",
    "    print start, mid, end, mid_word\n",
    "    if word == mid_word:\n",
    "        return word\n",
    "    elif word < mid_word:\n",
    "        return find_word(word, start, mid)\n",
    "    else:\n",
    "        return find_word(word, mid + 1, end)\n",
    "\n",
    "words = get_words()\n",
    "print find_word('alphabet', 0, len(words))"
   ]
  },
  {
   "cell_type": "code",
   "execution_count": 5,
   "metadata": {
    "collapsed": false
   },
   "outputs": [
    {
     "name": "stdout",
     "output_type": "stream",
     "text": [
      "True\n"
     ]
    }
   ],
   "source": [
    "print 'hello' > 'collectional '"
   ]
  },
  {
   "cell_type": "code",
   "execution_count": 2,
   "metadata": {
    "collapsed": false
   },
   "outputs": [],
   "source": [
    "class Node:\n",
    "    data = None\n",
    "    left = right = None\n",
    "\n",
    "    def __init__(self, data, left=None, right=None):\n",
    "        self.data = data\n",
    "        self.left = left\n",
    "        self.right = right\n",
    "        return\n",
    "    \n",
    "    def __str__(self):\n",
    "        return str('node: %s' % self.data)\n",
    "    \n",
    "node = Node(1)\n",
    "node.left, node.right = Node(2, Node(0), Node(1)), Node(5, Node(-1), Node(-2))"
   ]
  },
  {
   "cell_type": "code",
   "execution_count": null,
   "metadata": {
    "collapsed": false
   },
   "outputs": [],
   "source": [
    "#       1(5)\n",
    "#   2(3)    5(2) \n",
    "# 0  1   -1   -2\n",
    "\n",
    "def max_subtree(node, max_seen=None, max_node=None):\n",
    "    if node.left is None and node.right is None:\n",
    "        return node.data\n",
    "    \n",
    "    left_sum = max_subtree(node.left, max_seen, max_node) if node.left else 0\n",
    "    right_sum = max_subtree(node.right, max_seen, max_node) if node.right else 0\n",
    "    node_sum = left_sum + right_sum + node.data\n",
    "    \n",
    "    if node_sum > max_seen:\n",
    "        max_seen = node_sum\n",
    "        max_node = node\n",
    "        \n",
    "    print max_seen, max_node.data\n",
    "    return node_sum\n",
    "\n",
    "max_subtree(node)\n",
    "print max_seen, max_node"
   ]
  },
  {
   "cell_type": "code",
   "execution_count": 4,
   "metadata": {
    "collapsed": false
   },
   "outputs": [
    {
     "data": {
      "text/plain": [
       "7"
      ]
     },
     "execution_count": 4,
     "metadata": {},
     "output_type": "execute_result"
    }
   ],
   "source": [
    "def get_num_nodes(node, num_edges=0):\n",
    "    if node is None:\n",
    "        return num_edges\n",
    "    num_edges += 1\n",
    "    for child in [node.left, node.right]:\n",
    "        num_edges += get_num_nodes(child)\n",
    "    return num_edges\n",
    "\n",
    "get_num_nodes(node) "
   ]
  },
  {
   "cell_type": "code",
   "execution_count": 6,
   "metadata": {
    "collapsed": false
   },
   "outputs": [
    {
     "name": "stdout",
     "output_type": "stream",
     "text": [
      "[ 0.57142857  0.57142857]\n"
     ]
    }
   ],
   "source": [
    "a = np.array([[1, .75], [.75, 1]])\n",
    "b = np.array([1, 1])\n",
    "print np.linalg.solve(a, b)"
   ]
  },
  {
   "cell_type": "code",
   "execution_count": null,
   "metadata": {
    "collapsed": true
   },
   "outputs": [],
   "source": []
  }
 ],
 "metadata": {
  "kernelspec": {
   "display_name": "Python 2",
   "language": "python",
   "name": "python2"
  },
  "language_info": {
   "codemirror_mode": {
    "name": "ipython",
    "version": 2
   },
   "file_extension": ".py",
   "mimetype": "text/x-python",
   "name": "python",
   "nbconvert_exporter": "python",
   "pygments_lexer": "ipython2",
   "version": "2.7.10"
  }
 },
 "nbformat": 4,
 "nbformat_minor": 0
}
